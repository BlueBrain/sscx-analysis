{
 "cells": [
  {
   "cell_type": "markdown",
   "metadata": {},
   "source": [
    "# Bernstein Conference 2023: Triad counts"
   ]
  },
  {
   "cell_type": "code",
   "execution_count": 1,
   "metadata": {},
   "outputs": [],
   "source": [
    "import matplotlib.pyplot as plt\n",
    "import numpy as np\n",
    "import os\n",
    "import pickle"
   ]
  },
  {
   "cell_type": "code",
   "execution_count": 2,
   "metadata": {},
   "outputs": [],
   "source": [
    "# figs_path = None\n",
    "figs_path = './bernstein2023_figs'\n",
    "if not os.path.exists(figs_path):\n",
    "    os.makedirs(figs_path)"
   ]
  },
  {
   "cell_type": "code",
   "execution_count": null,
   "metadata": {},
   "outputs": [],
   "source": []
  },
  {
   "cell_type": "markdown",
   "metadata": {},
   "source": [
    "### Triad counts"
   ]
  },
  {
   "cell_type": "code",
   "execution_count": 3,
   "metadata": {},
   "outputs": [],
   "source": [
    "adj_files = ['/gpfs/bbp.cscs.ch/project/proj83/home/pokorny/SimplifiedConnectomeModels/structural_comparator_v2/SSCx-HexO1-Release/data/Orig_Adjacency_Hex0EE.pickle',\n",
    "             '/gpfs/bbp.cscs.ch/project/proj83/home/pokorny/SimplifiedConnectomeModels/structural_comparator_v2/SSCx-HexO1-Release/data/Order-1_Adjacency_Hex0EE.pickle',\n",
    "             '/gpfs/bbp.cscs.ch/project/proj83/home/pokorny/SimplifiedConnectomeModels/structural_comparator_v2/SSCx-HexO1-Release/data/Order-2_Adjacency_Hex0EE.pickle',\n",
    "             '/gpfs/bbp.cscs.ch/project/proj83/home/pokorny/SimplifiedConnectomeModels/structural_comparator_v2/SSCx-HexO1-Release/data/Order-3_Adjacency_Hex0EE.pickle',\n",
    "             '/gpfs/bbp.cscs.ch/project/proj83/home/pokorny/SimplifiedConnectomeModels/structural_comparator_v2/SSCx-HexO1-Release/data/Order-4_Adjacency_Hex0EE.pickle',\n",
    "             '/gpfs/bbp.cscs.ch/project/proj83/home/pokorny/SimplifiedConnectomeModels/structural_comparator_v2/SSCx-HexO1-Release/data/Order-5_Adjacency_Hex0EE.pickle']\n",
    "plot_names = ['Original',\n",
    "              '1st order',\n",
    "              '2nd order',\n",
    "              '3rd order',\n",
    "              '4th order',\n",
    "              '5th order']"
   ]
  },
  {
   "cell_type": "code",
   "execution_count": 59,
   "metadata": {},
   "outputs": [
    {
     "name": "stdout",
     "output_type": "stream",
     "text": [
      "<2711x2711 sparse matrix of type '<class 'numpy.bool_'>'\n",
      "\twith 72757 stored elements in Compressed Sparse Row format>\n",
      "<2711x2711 sparse matrix of type '<class 'numpy.bool_'>'\n",
      "\twith 73734 stored elements in Compressed Sparse Row format>\n",
      "<2711x2711 sparse matrix of type '<class 'numpy.bool_'>'\n",
      "\twith 73796 stored elements in Compressed Sparse Row format>\n",
      "<2711x2711 sparse matrix of type '<class 'numpy.bool_'>'\n",
      "\twith 73201 stored elements in Compressed Sparse Row format>\n",
      "<2711x2711 sparse matrix of type '<class 'numpy.bool_'>'\n",
      "\twith 72549 stored elements in Compressed Sparse Row format>\n",
      "<2711x2711 sparse matrix of type '<class 'numpy.bool_'>'\n",
      "\twith 71295 stored elements in Compressed Sparse Row format>\n"
     ]
    }
   ],
   "source": [
    "# Load adjacency matrices (optional: subsampling)\n",
    "sub_fraction = 0.1\n",
    "sub_seed = 0\n",
    "\n",
    "adj_mats = []\n",
    "for fn in adj_files:\n",
    "    with open(fn, 'rb') as f:\n",
    "        adj_dict = pickle.load(f)\n",
    "    _adj = adj_dict['adj']['data']\n",
    "\n",
    "    # Subsample matrices\n",
    "    np.random.seed(sub_seed)\n",
    "    sel_idx = np.random.choice(2, _adj.shape[0], p=[1.0 - sub_fraction, sub_fraction]).astype(bool)\n",
    "    _adj = _adj[:, sel_idx][sel_idx, :]\n",
    "\n",
    "    adj_mats.append(_adj)\n",
    "    print(_adj.__repr__())\n"
   ]
  },
  {
   "cell_type": "code",
   "execution_count": 60,
   "metadata": {},
   "outputs": [],
   "source": [
    "import importlib\n",
    "spec = importlib.util.spec_from_file_location('topology', '/gpfs/bbp.cscs.ch/home/pokorny/git/connectome_analysis/src/connalysis/network/topology.py')\n",
    "topology = importlib.util.module_from_spec(spec)\n",
    "spec.loader.exec_module(topology)"
   ]
  },
  {
   "cell_type": "code",
   "execution_count": 62,
   "metadata": {},
   "outputs": [
    {
     "name": "stdout",
     "output_type": "stream",
     "text": [
      "Running \"Original\" triad counting...\n",
      "Testing 1984608 potential triadic pairs\n",
      "Time spent finding triads: 25.55913472175598\n",
      "Found 4332298 connected triads\n",
      "Time spent classifying triads: 236.72150874137878\n",
      ">>> \"Original\" triad counts: [1710641 1171871 1251664   68581   61872   54894    7139     944    1567\n",
      "    1550    1456     117       2]\n",
      "\n",
      "Running \"1st order\" triad counting...\n",
      "Testing 2427632 potential triadic pairs\n",
      "Time spent finding triads: 26.99901819229126\n",
      "Found 3911991 connected triads\n",
      "Time spent classifying triads: 234.37580490112305\n",
      ">>> \"1st order\" triad counts: [1925483  959379  963284   19631   18684   18639    6445      88     187\n",
      "      83      87       1       0]\n",
      "\n",
      "Running \"2nd order\" triad counting...\n",
      "Testing 2253360 potential triadic pairs\n",
      "Time spent finding triads: 25.280606269836426\n",
      "Found 3924623 connected triads\n",
      "Time spent classifying triads: 207.68455696105957\n",
      ">>> \"2nd order\" triad counts: [1895996  944423  947652   28565   48049   47838    9532     645     929\n",
      "     460     493      39       2]\n",
      "\n",
      "Running \"3rd order\" triad counting...\n",
      "Testing 2232172 potential triadic pairs\n",
      "Time spent finding triads: 25.119980573654175\n",
      "Found 3871227 connected triads\n",
      "Time spent classifying triads: 210.68752646446228\n",
      ">>> \"3rd order\" triad counts: [1812370  951758  980882   30505   44094   41968    7332     459     829\n",
      "     470     523      36       1]\n",
      "\n",
      "Running \"4th order\" triad counting...\n",
      "Testing 2094833 potential triadic pairs\n",
      "Time spent finding triads: 25.454861879348755\n",
      "Found 3893053 connected triads\n",
      "Time spent classifying triads: 224.94702076911926\n",
      ">>> \"4th order\" triad counts: [1794209  962282  993622   40057   46899   45475    7655     518    1000\n",
      "     658     640      37       1]\n",
      "\n",
      "Running \"5th order\" triad counting...\n",
      "Testing 2041434 potential triadic pairs\n",
      "Time spent finding triads: 25.292234659194946\n",
      "Found 3815383 connected triads\n",
      "Time spent classifying triads: 214.13459300994873\n",
      ">>> \"5th order\" triad counts: [1717607  993120  965741   40311   43996   44809    6990     532     904\n",
      "     665     667      41       0]\n",
      "\n"
     ]
    }
   ],
   "source": [
    "for _adj, _nm in zip(adj_mats, plot_names):\n",
    "    print(f'Running \"{_nm}\" triad counting...')\n",
    "    if sub_fraction < 1.0:\n",
    "        fn = os.path.join(figs_path, f'triad_counts__sub{sub_fraction}__{_nm}.txt')\n",
    "    else:\n",
    "        fn = os.path.join(figs_path, f'triad_counts__{_nm}.txt')\n",
    "    if os.path.exists(fn):\n",
    "        print(f'>>> \"{_nm}\" counts already exist ... SKIPPING')\n",
    "        continue\n",
    "    triad_counts = topology.count_triads_fully_connected(_adj)\n",
    "    print(f'>>> \"{_nm}\" triad counts: {triad_counts}\\n')\n",
    "    np.savetxt(fn, triad_counts, fmt='%d')"
   ]
  },
  {
   "cell_type": "code",
   "execution_count": null,
   "metadata": {},
   "outputs": [],
   "source": []
  },
  {
   "cell_type": "code",
   "execution_count": null,
   "metadata": {},
   "outputs": [],
   "source": []
  },
  {
   "cell_type": "code",
   "execution_count": null,
   "metadata": {},
   "outputs": [],
   "source": [
    "# Trim PNGs\n",
    "# mogrify -trim *.png"
   ]
  },
  {
   "cell_type": "code",
   "execution_count": null,
   "metadata": {},
   "outputs": [],
   "source": []
  }
 ],
 "metadata": {
  "kernelspec": {
   "display_name": "ReWiringKernel",
   "language": "python",
   "name": "rewiringkernel"
  },
  "language_info": {
   "codemirror_mode": {
    "name": "ipython",
    "version": 3
   },
   "file_extension": ".py",
   "mimetype": "text/x-python",
   "name": "python",
   "nbconvert_exporter": "python",
   "pygments_lexer": "ipython3",
   "version": "3.10.8"
  }
 },
 "nbformat": 4,
 "nbformat_minor": 4
}

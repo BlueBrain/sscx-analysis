{
 "cells": [
  {
   "cell_type": "markdown",
   "metadata": {},
   "source": [
    "# Bernstein Conference 2023: Triad counts"
   ]
  },
  {
   "cell_type": "code",
   "execution_count": 1,
   "metadata": {},
   "outputs": [],
   "source": [
    "import matplotlib.pyplot as plt\n",
    "import numpy as np\n",
    "import os"
   ]
  },
  {
   "cell_type": "code",
   "execution_count": 2,
   "metadata": {},
   "outputs": [],
   "source": [
    "# figs_path = None\n",
    "figs_path = './bernstein2023_figs'\n",
    "if not os.path.exists(figs_path):\n",
    "    os.makedirs(figs_path)"
   ]
  },
  {
   "cell_type": "code",
   "execution_count": null,
   "metadata": {},
   "outputs": [],
   "source": []
  },
  {
   "cell_type": "markdown",
   "metadata": {},
   "source": [
    "### Triad counts"
   ]
  },
  {
   "cell_type": "code",
   "execution_count": 3,
   "metadata": {},
   "outputs": [],
   "source": [
    "adj_files = ['/gpfs/bbp.cscs.ch/project/proj83/home/pokorny/SimplifiedConnectomeModels/structural_comparator_v2/SSCx-HexO1-Release/data/Orig_Adjacency_Hex0EE.pickle',\n",
    "             '/gpfs/bbp.cscs.ch/project/proj83/home/pokorny/SimplifiedConnectomeModels/structural_comparator_v2/SSCx-HexO1-Release/data/Order-1_Adjacency_Hex0EE.pickle',\n",
    "             '/gpfs/bbp.cscs.ch/project/proj83/home/pokorny/SimplifiedConnectomeModels/structural_comparator_v2/SSCx-HexO1-Release/data/Order-2_Adjacency_Hex0EE.pickle',\n",
    "             '/gpfs/bbp.cscs.ch/project/proj83/home/pokorny/SimplifiedConnectomeModels/structural_comparator_v2/SSCx-HexO1-Release/data/Order-3_Adjacency_Hex0EE.pickle',\n",
    "             '/gpfs/bbp.cscs.ch/project/proj83/home/pokorny/SimplifiedConnectomeModels/structural_comparator_v2/SSCx-HexO1-Release/data/Order-4_Adjacency_Hex0EE.pickle',\n",
    "             '/gpfs/bbp.cscs.ch/project/proj83/home/pokorny/SimplifiedConnectomeModels/structural_comparator_v2/SSCx-HexO1-Release/data/Order-5_Adjacency_Hex0EE.pickle']\n",
    "plot_names = ['Original',\n",
    "              '1st order',\n",
    "              '2nd order',\n",
    "              '3rd order',\n",
    "              '4th order',\n",
    "              '5th order']"
   ]
  },
  {
   "cell_type": "code",
   "execution_count": 4,
   "metadata": {},
   "outputs": [],
   "source": [
    "import pickle\n",
    "adj_mats = []\n",
    "for fn in adj_files:\n",
    "    with open(fn, 'rb') as f:\n",
    "        adj_dict = pickle.load(f)\n",
    "    adj_mats.append(adj_dict['adj']['data'])\n"
   ]
  },
  {
   "cell_type": "code",
   "execution_count": 5,
   "metadata": {},
   "outputs": [],
   "source": [
    "import importlib\n",
    "spec = importlib.util.spec_from_file_location('topology', '/gpfs/bbp.cscs.ch/home/pokorny/git/connectome_analysis/src/connalysis/network/topology.py')\n",
    "topology = importlib.util.module_from_spec(spec)\n",
    "spec.loader.exec_module(topology)"
   ]
  },
  {
   "cell_type": "code",
   "execution_count": null,
   "metadata": {},
   "outputs": [
    {
     "name": "stdout",
     "output_type": "stream",
     "text": [
      "Running \"Original\" triad counting...\n",
      "Testing 334953916 potential triadic pairs\n"
     ]
    }
   ],
   "source": [
    "for _adj, _nm in zip(adj_mats, plot_names):\n",
    "    print(f'Running \"{_nm}\" triad counting...')\n",
    "    triad_counts = topology.count_triads_fully_connected(_adj)\n",
    "    print(f'>>> \"{_nm}\" triad counts: {triad_counts}\\n')\n",
    "    np.savetxt(os.path.join(figs_path, f'triad_counts__{_nm}.txt'), triad_counts, fmt='%d')"
   ]
  },
  {
   "cell_type": "code",
   "execution_count": null,
   "metadata": {},
   "outputs": [],
   "source": []
  },
  {
   "cell_type": "code",
   "execution_count": null,
   "metadata": {},
   "outputs": [],
   "source": []
  },
  {
   "cell_type": "code",
   "execution_count": null,
   "metadata": {},
   "outputs": [],
   "source": [
    "# Trim PNGs\n",
    "# mogrify -trim *.png"
   ]
  },
  {
   "cell_type": "code",
   "execution_count": null,
   "metadata": {},
   "outputs": [],
   "source": []
  }
 ],
 "metadata": {
  "kernelspec": {
   "display_name": "ReWiringKernel",
   "language": "python",
   "name": "rewiringkernel"
  },
  "language_info": {
   "codemirror_mode": {
    "name": "ipython",
    "version": 3
   },
   "file_extension": ".py",
   "mimetype": "text/x-python",
   "name": "python",
   "nbconvert_exporter": "python",
   "pygments_lexer": "ipython3",
   "version": "3.10.8"
  }
 },
 "nbformat": 4,
 "nbformat_minor": 4
}

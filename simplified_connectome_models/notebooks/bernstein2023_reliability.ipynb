{
 "cells": [
  {
   "cell_type": "markdown",
   "metadata": {},
   "source": [
    "# Bernstein Conference 2023: Reliability computations\n",
    "\n",
    "- Based on 10 seeds\n",
    "- Data stores containing preprocessed spike signals using `reliability_and_structure/data_analysis/notebooks/run_preprocessing_pipeline.ipynb`"
   ]
  },
  {
   "cell_type": "code",
   "execution_count": 1,
   "metadata": {},
   "outputs": [],
   "source": [
    "import matplotlib.pyplot as plt\n",
    "import numpy as np\n",
    "import os\n",
    "import pickle\n",
    "import h5py\n",
    "import time\n",
    "from scipy.spatial import distance"
   ]
  },
  {
   "cell_type": "code",
   "execution_count": 2,
   "metadata": {},
   "outputs": [],
   "source": [
    "# figs_path = None\n",
    "figs_path = './bernstein2023_figs'\n",
    "if not os.path.exists(figs_path):\n",
    "    os.makedirs(figs_path)"
   ]
  },
  {
   "cell_type": "code",
   "execution_count": null,
   "metadata": {},
   "outputs": [],
   "source": []
  },
  {
   "cell_type": "code",
   "execution_count": 3,
   "metadata": {},
   "outputs": [],
   "source": [
    "data_stores = ['/gpfs/bbp.cscs.ch/data/scratch/proj83/home/pokorny/SimplifiedConnectomeModels/simulations_v2/SSCx-HexO1-Release-TC__Reliab/working_dir/processed_data_store.h5',\n",
    "               '/gpfs/bbp.cscs.ch/data/scratch/proj83/home/pokorny/SimplifiedConnectomeModels/simulations_v2/SSCx-HexO1-Release-TC__Reliab__ConnRewireOrder1Hex0EE/working_dir/processed_data_store.h5',\n",
    "               '/gpfs/bbp.cscs.ch/data/scratch/proj83/home/pokorny/SimplifiedConnectomeModels/simulations_v2/SSCx-HexO1-Release-TC__Reliab__ConnRewireOrder2Hex0EE/working_dir/processed_data_store.h5',\n",
    "               '/gpfs/bbp.cscs.ch/data/scratch/proj83/home/pokorny/SimplifiedConnectomeModels/simulations_v2/SSCx-HexO1-Release-TC__Reliab__ConnRewireOrder3Hex0EE/working_dir/processed_data_store.h5',\n",
    "               '/gpfs/bbp.cscs.ch/data/scratch/proj83/home/pokorny/SimplifiedConnectomeModels/simulations_v2/SSCx-HexO1-Release-TC__Reliab__ConnRewireOrder4Hex0EE/working_dir/processed_data_store.h5',\n",
    "               '/gpfs/bbp.cscs.ch/data/scratch/proj83/home/pokorny/SimplifiedConnectomeModels/simulations_v2/SSCx-HexO1-Release-TC__Reliab__ConnRewireOrder5Hex0EE/working_dir/processed_data_store.h5']\n",
    "plot_names = ['Original',\n",
    "              '1st order',\n",
    "              '2nd order',\n",
    "              '3rd order',\n",
    "              '4th order',\n",
    "              '5th order']"
   ]
  },
  {
   "cell_type": "code",
   "execution_count": null,
   "metadata": {},
   "outputs": [],
   "source": []
  },
  {
   "cell_type": "code",
   "execution_count": 4,
   "metadata": {},
   "outputs": [],
   "source": [
    "# Modified from compute_reliabilities_10seed_all_connectomes.py\n",
    "def load_spike_signals(file, sim_idx,return_metadata=False):\n",
    "    spike_signals = []\n",
    "    with h5py.File(file, 'r') as f:\n",
    "        gids = f['gids'][()]\n",
    "        metadata={'firing_rates':f['firing_rates'][()],\n",
    "                  'mean_centered':f['mean_centered'][()],\n",
    "                  'sigma':f['sigma'][()]}\n",
    "        for sim_id in sim_idx:\n",
    "            spike_signals.append(f['spike_signals_exc'][f'sim_{sim_id}'][()])\n",
    "    if return_metadata==False:\n",
    "        return gids, np.stack(spike_signals)\n",
    "    elif return_metadata==True:\n",
    "        return gids, np.stack(spike_signals), metadata\n",
    "\n",
    "def avg_reliability(v_filt):\n",
    "    \"\"\"Computes average reliability between all pairs of trials of a give set.\n",
    "        v_filt: Array spike trains many simuations of shape N_trials x #neuronss # time_bins\"\"\"\n",
    "    no_cells=v_filt.shape[1]\n",
    "    mean_rels=[(1-distance.pdist(v_filt[:,x,:],'cosine')).mean() for x in range(no_cells)]\n",
    "    # mean_rels=[np.nanmean(1-distance.pdist(v_filt[:,x,:],'cosine')) for x in range(no_cells)]\n",
    "    return np.array(mean_rels)"
   ]
  },
  {
   "cell_type": "code",
   "execution_count": null,
   "metadata": {},
   "outputs": [],
   "source": []
  },
  {
   "cell_type": "code",
   "execution_count": 6,
   "metadata": {},
   "outputs": [
    {
     "name": "stdout",
     "output_type": "stream",
     "text": [
      "Processing \"3rd order\"...\n",
      "  Loaded data in 193.1s\n",
      "  Computed reliabilities in 45.8s\n"
     ]
    }
   ],
   "source": [
    "# Load spike signals and compute reliability\n",
    "do_mean_centering = False\n",
    "sim_sel = np.arange(10)\n",
    "for _dstore, _nm in zip(data_stores, plot_names):\n",
    "    print(f'Processing \"{_nm}\"...')\n",
    "    t0 = time.time()\n",
    "    nids, spike_signals, metadata = load_spike_signals(_dstore, sim_sel, return_metadata=True)\n",
    "    print(f'  Loaded data in {time.time() - t0:.1f}s')\n",
    "    if do_mean_centering:\n",
    "        t0 = time.time()\n",
    "        spike_signals = spike_signals - np.mean(spike_signals, 2, keepdims=True)\n",
    "        metadata['mean_centered'] = True\n",
    "        print(f'  Mean-centered data in {time.time() - t0:.1f}s')\n",
    "    t0 = time.time()\n",
    "    reliab = avg_reliability(spike_signals)\n",
    "    print(f'  Computed reliabilities in {time.time() - t0:.1f}s')\n",
    "    with open(os.path.join(figs_path, f'reliability_rates_centered{metadata[\"mean_centered\"]}__{_nm}.pkl'), 'wb') as f:\n",
    "        pickle.dump({\"reliab\": reliab, \"rates\": np.mean(metadata['firing_rates'], 0)}, f)"
   ]
  },
  {
   "cell_type": "code",
   "execution_count": null,
   "metadata": {},
   "outputs": [],
   "source": []
  },
  {
   "cell_type": "code",
   "execution_count": null,
   "metadata": {},
   "outputs": [],
   "source": []
  },
  {
   "cell_type": "code",
   "execution_count": null,
   "metadata": {},
   "outputs": [],
   "source": [
    "# Trim PNGs\n",
    "# mogrify -trim *.png"
   ]
  },
  {
   "cell_type": "code",
   "execution_count": null,
   "metadata": {},
   "outputs": [],
   "source": []
  }
 ],
 "metadata": {
  "kernelspec": {
   "display_name": "ReWiringKernel",
   "language": "python",
   "name": "rewiringkernel"
  },
  "language_info": {
   "codemirror_mode": {
    "name": "ipython",
    "version": 3
   },
   "file_extension": ".py",
   "mimetype": "text/x-python",
   "name": "python",
   "nbconvert_exporter": "python",
   "pygments_lexer": "ipython3",
   "version": "3.10.8"
  }
 },
 "nbformat": 4,
 "nbformat_minor": 4
}

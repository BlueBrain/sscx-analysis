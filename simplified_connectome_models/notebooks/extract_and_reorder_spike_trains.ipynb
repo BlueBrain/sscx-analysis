{
 "cells": [
  {
   "cell_type": "markdown",
   "metadata": {},
   "source": [
    "# Spike train extraction and re-ordering\n",
    "\n",
    "- Extract spike trains from simulation campaign\n",
    "- Re-arrange spike trains suitable for reliability computations"
   ]
  },
  {
   "cell_type": "code",
   "execution_count": 1,
   "metadata": {},
   "outputs": [],
   "source": [
    "import json\n",
    "import matplotlib.pyplot as plt\n",
    "import numpy as np\n",
    "import os\n",
    "import scipy.sparse as sps\n",
    "from bluepy import Cell, Circuit, Simulation\n",
    "\n",
    "import sys\n",
    "sys.path.append('../../../reliability_and_structure/library')"
   ]
  },
  {
   "cell_type": "markdown",
   "metadata": {},
   "source": [
    "## Extract spike trains from toposample simulations using SSCx-Hex0 rewired connectomes"
   ]
  },
  {
   "cell_type": "code",
   "execution_count": 2,
   "metadata": {},
   "outputs": [],
   "source": [
    "campaign_path = '/gpfs/bbp.cscs.ch/data/scratch/proj83/home/pokorny/SimplifiedConnectomeModels/simulations/SSCx-Bio_M-20200805-HexO1_Ca1p2ShotNoise_Hex0Toposample'\n",
    "# campaign_path = '/gpfs/bbp.cscs.ch/data/scratch/proj83/home/pokorny/SimplifiedConnectomeModels/simulations/SSCx-Bio_M-20200805-HexO1_Ca1p2ShotNoise_Hex0Toposample_ConnRewireOrder1Hex0EE100pct'\n",
    "# campaign_path = '/gpfs/bbp.cscs.ch/data/scratch/proj83/home/pokorny/SimplifiedConnectomeModels/simulations/SSCx-Bio_M-20200805-HexO1_Ca1p2ShotNoise_Hex0Toposample_ConnRewireOrder2Hex0EE100pct'\n",
    "# campaign_path = '/gpfs/bbp.cscs.ch/data/scratch/proj83/home/pokorny/SimplifiedConnectomeModels/simulations/SSCx-Bio_M-20200805-HexO1_Ca1p2ShotNoise_Hex0Toposample_ConnRewireOrder3Hex0EE100pct'\n",
    "# campaign_path = '/gpfs/bbp.cscs.ch/data/scratch/proj83/home/pokorny/SimplifiedConnectomeModels/simulations/SSCx-Bio_M-20200805-HexO1_Ca1p2ShotNoise_Hex0Toposample_ConnRewireOrder4Hex0EE100pct'\n",
    "# campaign_path = '/gpfs/bbp.cscs.ch/data/scratch/proj83/home/pokorny/SimplifiedConnectomeModels/simulations/SSCx-Bio_M-20200805-HexO1_Ca1p2ShotNoise_Hex0Toposample_ConnRewireOrder5Hex0EE100pct'\n"
   ]
  },
  {
   "cell_type": "code",
   "execution_count": 3,
   "metadata": {},
   "outputs": [],
   "source": [
    "# Load campaign config\n",
    "with open(os.path.join(campaign_path, 'config.json'), 'r') as f:\n",
    "    config_dict = json.load(f)\n",
    "sim_paths = [os.path.join(config_dict['attrs']['path_prefix'], p) for p in config_dict['data']]\n",
    "\n",
    "# Set up save path (= working dir)\n",
    "working_dir_name = 'reliability_working_dir_v2'\n",
    "save_path = os.path.join(config_dict['attrs']['path_prefix'], config_dict['name'], working_dir_name)\n",
    "if not os.path.exists(save_path): # Create results folder\n",
    "    os.makedirs(save_path)\n",
    "    os.symlink(save_path, os.path.join(campaign_path, os.path.split(save_path)[-1])) # Create symbolic link"
   ]
  },
  {
   "cell_type": "code",
   "execution_count": null,
   "metadata": {},
   "outputs": [],
   "source": []
  },
  {
   "cell_type": "markdown",
   "metadata": {},
   "source": [
    "### __Variant 1:__ Extract and re-arrange spike trains, then preprocess re-arranged spike trains"
   ]
  },
  {
   "cell_type": "code",
   "execution_count": null,
   "metadata": {},
   "outputs": [],
   "source": [
    "from extract import extract_neuron_info, extract_adj_matrix, extract_stim_train"
   ]
  },
  {
   "cell_type": "code",
   "execution_count": 4,
   "metadata": {},
   "outputs": [],
   "source": [
    "# Get stimulus config\n",
    "blue_config = os.path.join(sim_paths[0], 'BlueConfig')\n",
    "sim = Simulation(blue_config)\n",
    "c = sim.circuit\n",
    "hex0 = c.cells.ids('hex0')\n",
    "input_spike_file = os.path.abspath(os.path.join(sim.config['Run_Default']['OutputRoot'], sim.config['Stimulus_spikeReplay']['SpikeFile']))\n",
    "stim_config_file = os.path.splitext(input_spike_file)[0] + '.json'"
   ]
  },
  {
   "cell_type": "code",
   "execution_count": 5,
   "metadata": {},
   "outputs": [
    {
     "name": "stderr",
     "output_type": "stream",
     "text": [
      "/gpfs/bbp.cscs.ch/home/pokorny/BbpWorkflowKernel/lib/python3.9/site-packages/tables/file.py:411: UserWarning: a closed node found in the registry: ``/neuron_info/meta/values_block_3/meta/_i_table``\n",
      "  warnings.warn(\"a closed node found in the registry: \"\n"
     ]
    }
   ],
   "source": [
    "# Extract neuron info [same for all sims]\n",
    "neuron_info = extract_neuron_info(c, hex0, save_path)"
   ]
  },
  {
   "cell_type": "code",
   "execution_count": 6,
   "metadata": {},
   "outputs": [],
   "source": [
    "# Extract adjacency matrix [same for all sims]\n",
    "adj_matrix = extract_adj_matrix(c, neuron_info, save_path)"
   ]
  },
  {
   "cell_type": "code",
   "execution_count": null,
   "metadata": {},
   "outputs": [],
   "source": [
    "# Extract stim train & time windows [assuming a single sim in campaign]\n",
    "assert len(sim_paths) == 1, 'ERROR: Single simulation in campaign expected!'\n",
    "stim_train, time_windows = extract_stim_train(stim_config_file, save_path=None)\n",
    "\n",
    "patterns, pattern_counts = np.unique(stim_train, return_counts=True)\n",
    "num_patterns = len(patterns)\n",
    "pattern_counts = np.unique(pattern_counts)\n",
    "assert len(pattern_counts) == 1, 'ERROR: Equal number of repetitions per pattern expected!'\n",
    "pattern_counts = pattern_counts[0]\n",
    "print(f'INFO: Found {num_patterns} patterns with {pattern_counts} repetitions per pattern')"
   ]
  },
  {
   "cell_type": "code",
   "execution_count": 8,
   "metadata": {},
   "outputs": [
    {
     "name": "stdout",
     "output_type": "stream",
     "text": [
      "INFO: Pattern re-arrangement for 10 sim block:\n",
      "[0 1 2 3 0 1 2 3 0 1 2 3 0 1 2 3 0 1 2 3]\n"
     ]
    }
   ],
   "source": [
    "# Re-arrange patterns (order: 0123012301230123, keeping order of occurrence)\n",
    "num_blocks = 10 # Number of simulation blocks\n",
    "reps_per_block_per_pattern = pattern_counts / num_blocks\n",
    "assert reps_per_block_per_pattern == int(reps_per_block_per_pattern), 'ERROR: Integer count required!'\n",
    "reps_per_block_per_pattern = int(reps_per_block_per_pattern)\n",
    "\n",
    "idx_per_blocks = []\n",
    "for p in patterns:\n",
    "    block_idx = []\n",
    "    for b in range(num_blocks):\n",
    "        block_idx.append(np.where(stim_train == p)[0][np.arange(b, pattern_counts, num_blocks)])\n",
    "    idx_per_blocks.append(block_idx)\n",
    "idx_per_blocks = np.hstack(np.array(idx_per_blocks).T)\n",
    "\n",
    "stim_train_per_block = np.squeeze(np.unique(stim_train[idx_per_blocks], axis=0))\n",
    "assert np.array_equal(stim_train_per_block, np.hstack([np.arange(num_patterns)] * reps_per_block_per_pattern)), 'ERROR: Wrong re-arrangement of patterns!'\n",
    "assert np.array_equal(np.unique(idx_per_blocks), np.arange(len(stim_train))), 'ERROR: Wrong re-arrangement of patterns!'\n",
    "\n",
    "print(f'INFO: Pattern re-arrangement for {num_blocks} sim block:\\n{stim_train_per_block}')"
   ]
  },
  {
   "cell_type": "code",
   "execution_count": 9,
   "metadata": {},
   "outputs": [
    {
     "name": "stderr",
     "output_type": "stream",
     "text": [
      "/gpfs/bbp.cscs.ch/ssd/apps/bsd/2022-01-10/stage_applications/install_gcc-11.2.0-skylake/py-numpy-1.19.5-gjm7kk/lib/python3.9/site-packages/numpy/lib/arraysetops.py:580: FutureWarning: elementwise comparison failed; returning scalar instead, but in the future will perform elementwise comparison\n",
      "  mask |= (ar1 == a)\n"
     ]
    },
    {
     "name": "stdout",
     "output_type": "stream",
     "text": [
      "INFO: 10 spike files with 778679.4 +/- 39213.3 (SD) spikes written to file\n"
     ]
    }
   ],
   "source": [
    "# Extract spike trains according to re-arranged patterns\n",
    "syn_class = 'EXC'\n",
    "sim = Simulation(os.path.join(sim_paths[0], 'BlueConfig'))\n",
    "gids = neuron_info[neuron_info['synapse_class'] == syn_class].index\n",
    "raw_spikes = sim.spikes.get(gids)\n",
    "raw_spikes = np.vstack((raw_spikes.index, raw_spikes.to_numpy())).T\n",
    "\n",
    "time_windows_per_block = None\n",
    "spike_counts = np.full(num_blocks, -1)\n",
    "for bidx in range(num_blocks):\n",
    "    block_spikes = []\n",
    "    block_offset = 0\n",
    "    block_time_windows = [block_offset]\n",
    "    for pidx in range(num_patterns * reps_per_block_per_pattern):\n",
    "        stim_idx = idx_per_blocks[bidx, pidx]\n",
    "        cut_start = time_windows[stim_idx]\n",
    "        cut_end = time_windows[stim_idx + 1]\n",
    "        spk = raw_spikes[np.logical_and(raw_spikes[:, 0] >= cut_start, raw_spikes[:, 0] < cut_end), :] # Cut spikes\n",
    "        spk[:, 0] = spk[:, 0] - cut_start + block_offset # Correct spike times\n",
    "        block_spikes.append(spk)\n",
    "        block_offset += cut_end - cut_start\n",
    "        block_time_windows.append(block_offset)\n",
    "\n",
    "    block_time_windows = np.array(block_time_windows)\n",
    "    if time_windows_per_block is None:\n",
    "        time_windows_per_block = block_time_windows\n",
    "    else:\n",
    "        assert np.array_equal(time_windows_per_block, block_time_windows), 'ERROR: Block time windows mismatch!'\n",
    "\n",
    "    # Write spikes to file\n",
    "    block_spikes = np.vstack(block_spikes)\n",
    "    np.save(os.path.join(save_path, f'raw_spikes_{syn_class.lower()}_{bidx}.npy'), block_spikes)\n",
    "    spike_counts[bidx] = block_spikes.shape[0]\n",
    "\n",
    "# Write new time windows & stim trains to file\n",
    "np.save(os.path.join(save_path, 'time_windows.npy'), time_windows_per_block)\n",
    "np.save(os.path.join(save_path, 'stim_stream.npy'), stim_train_per_block)\n",
    "\n",
    "print(f'INFO: {num_blocks} spike files with {np.mean(spike_counts):.1f} +/- {np.std(spike_counts):.1f} (SD) spikes written to file')"
   ]
  },
  {
   "cell_type": "code",
   "execution_count": 10,
   "metadata": {},
   "outputs": [
    {
     "data": {
      "image/png": "[encoded data removed]",
      "text/plain": [
       "<Figure size 1152x288 with 1 Axes>"
      ]
     },
     "metadata": {
      "needs_background": "light"
     },
     "output_type": "display_data"
    }
   ],
   "source": [
    "# Plot one example spike block (last one)\n",
    "pattern_colors = plt.cm.jet(np.linspace(0, 1, num_patterns))\n",
    "\n",
    "plt.figure(figsize=(16, 4))\n",
    "plt.plot(block_spikes[:, 0], block_spikes[:, 1], ',')\n",
    "plt.ylim(plt.ylim())\n",
    "for pidx in np.arange(num_patterns):\n",
    "    plt.vlines(time_windows_per_block[:-1][stim_train_per_block == pidx], ymin=np.min(plt.ylim()), ymax=np.max(plt.ylim()), color=pattern_colors[pidx, :], label=f'P{pidx}')\n",
    "plt.xlabel('Time (ms)')\n",
    "plt.ylabel(f'{syn_class} neurons')\n",
    "plt.title(f'Re-arranged spike trains (example)', fontweight='bold')\n",
    "plt.legend(loc='upper left', bbox_to_anchor=[1.0, 1.0], title='Patterns:')\n",
    "plt.tight_layout()\n",
    "plt.savefig(os.path.join(save_path, 'spike_train_example.png'), dpi=300)\n",
    "plt.show()"
   ]
  },
  {
   "cell_type": "code",
   "execution_count": null,
   "metadata": {},
   "outputs": [],
   "source": []
  },
  {
   "cell_type": "markdown",
   "metadata": {},
   "source": [
    "__To be continued with:__ Step 2 \"Compute filtered spike signals & mean-centering\" in <code>run_preprocessing_pipeline.ipynb</code>:"
   ]
  },
  {
   "cell_type": "code",
   "execution_count": 11,
   "metadata": {},
   "outputs": [
    {
     "name": "stdout",
     "output_type": "stream",
     "text": [
      "working_dir = \"/gpfs/bbp.cscs.ch/data/scratch/proj83/home/pokorny/SimplifiedConnectomeModels/bbp_workflow/43269208-a4e3-4b21-9d25-fa97c23399d9/reliability_working_dir\"\n",
      "num_sims = 10\n"
     ]
    }
   ],
   "source": [
    "print(f'working_dir = \"{save_path}\"')\n",
    "print(f'num_sims = {num_blocks}')"
   ]
  },
  {
   "cell_type": "code",
   "execution_count": null,
   "metadata": {},
   "outputs": [],
   "source": []
  },
  {
   "cell_type": "markdown",
   "metadata": {},
   "source": [
    "### __Variant 2:__ Extract full spike trains and preprocess them, then re-arrange filtered spike signals"
   ]
  },
  {
   "cell_type": "code",
   "execution_count": 4,
   "metadata": {},
   "outputs": [],
   "source": [
    "from extract import run_extraction\n",
    "from preprocess import run_preprocessing, run_rate_extraction"
   ]
  },
  {
   "cell_type": "code",
   "execution_count": 14,
   "metadata": {},
   "outputs": [
    {
     "name": "stdout",
     "output_type": "stream",
     "text": [
      "INFO: 1 spike files written to \"/gpfs/bbp.cscs.ch/data/scratch/proj83/home/pokorny/SimplifiedConnectomeModels/bbp_workflow/2bc672d4-1f3a-413d-bcff-1a4f6ccd7516/reliability_working_dir_v2\"\n"
     ]
    }
   ],
   "source": [
    "# Run spike extraction\n",
    "sim_paths, working_dir = run_extraction(campaign_path, working_dir_name=working_dir_name, cell_target='hex0')\n",
    "num_sims = len(sim_paths)"
   ]
  },
  {
   "cell_type": "code",
   "execution_count": 18,
   "metadata": {},
   "outputs": [
    {
     "name": "stdout",
     "output_type": "stream",
     "text": [
      "Finished preprocessing in 1216.512s\n"
     ]
    }
   ],
   "source": [
    "# Run preprocessing\n",
    "spike_file_names = [f'raw_spikes_exc_{idx}.npy' for idx in range(num_sims)]\n",
    "run_preprocessing(working_dir, spike_file_names, sigma=10.0, mean_centered=True, pool_size=10)"
   ]
  },
  {
   "cell_type": "markdown",
   "metadata": {},
   "source": [
    "#### Re-arrange spike signals"
   ]
  },
  {
   "cell_type": "code",
   "execution_count": 5,
   "metadata": {},
   "outputs": [],
   "source": [
    "# working_dir = '/gpfs/bbp.cscs.ch/data/scratch/proj83/home/pokorny/SimplifiedConnectomeModels/bbp_workflow/2bc672d4-1f3a-413d-bcff-1a4f6ccd7516/reliability_working_dir_v2'\n",
    "# spike_file_names = ['raw_spikes_exc_0.npy']\n",
    "# num_sims = len(spike_file_names)"
   ]
  },
  {
   "cell_type": "code",
   "execution_count": 6,
   "metadata": {},
   "outputs": [
    {
     "name": "stdout",
     "output_type": "stream",
     "text": [
      "INFO: Found 4 patterns with 50 repetitions per pattern\n"
     ]
    }
   ],
   "source": [
    "# Extract stim train & time windows [assuming a single sim in campaign]\n",
    "stim_train = np.load(os.path.join(working_dir, 'stim_stream.npy'))\n",
    "time_windows = np.load(os.path.join(working_dir, 'time_windows.npy'))\n",
    "\n",
    "patterns, pattern_counts = np.unique(stim_train, return_counts=True)\n",
    "num_patterns = len(patterns)\n",
    "pattern_counts = np.unique(pattern_counts)\n",
    "assert len(pattern_counts) == 1, 'ERROR: Equal number of repetitions per pattern expected!'\n",
    "pattern_counts = pattern_counts[0]\n",
    "print(f'INFO: Found {num_patterns} patterns with {pattern_counts} repetitions per pattern')"
   ]
  },
  {
   "cell_type": "code",
   "execution_count": 7,
   "metadata": {},
   "outputs": [
    {
     "name": "stdout",
     "output_type": "stream",
     "text": [
      "INFO: Pattern re-arrangement for 10 sim block:\n",
      "[0 0 0 0 0 1 1 1 1 1 2 2 2 2 2 3 3 3 3 3]\n"
     ]
    }
   ],
   "source": [
    "# Re-arrange patterns (order: 00000111112222233333, randomizing selection of patterns)\n",
    "meta_seed = 0\n",
    "num_blocks = 10 # Number of simulation blocks\n",
    "num_fake_campaigns = 50 # Number of \"fake\" simulation campaigns with <num_blocks> sims each\n",
    "reps_per_block_per_pattern = pattern_counts / num_blocks\n",
    "assert reps_per_block_per_pattern == int(reps_per_block_per_pattern), 'ERROR: Integer count required!'\n",
    "reps_per_block_per_pattern = int(reps_per_block_per_pattern)\n",
    "\n",
    "np.random.seed(meta_seed)\n",
    "campaign_blocks = []\n",
    "for cpgn_idx in range(num_fake_campaigns):\n",
    "    idx_per_blocks = []\n",
    "    for p in patterns:\n",
    "        p_indices = np.reshape(np.random.permutation(np.where(stim_train == p)[0]), (num_blocks, reps_per_block_per_pattern))\n",
    "        idx_per_blocks.append(p_indices)\n",
    "    idx_per_blocks = np.hstack(np.array(idx_per_blocks))\n",
    "\n",
    "    stim_train_per_block = np.squeeze(np.unique(stim_train[idx_per_blocks], axis=0))\n",
    "    assert np.array_equal(stim_train_per_block, np.hstack([[i] * reps_per_block_per_pattern for i in range(num_patterns)])), 'ERROR: Wrong re-arrangement of patterns!'\n",
    "    assert np.array_equal(np.unique(idx_per_blocks), np.arange(len(stim_train))), 'ERROR: Wrong re-arrangement of patterns!'\n",
    "\n",
    "    campaign_blocks.append(idx_per_blocks)\n",
    "\n",
    "print(f'INFO: Pattern re-arrangement for {num_blocks} sim block:\\n{stim_train_per_block}')"
   ]
  },
  {
   "cell_type": "code",
   "execution_count": null,
   "metadata": {},
   "outputs": [],
   "source": [
    "# Extract spike signals according to re-arranged patterns\n",
    "signal_file = os.path.join(working_dir, 'spike_signals_exc_0__tmp__.npz')\n",
    "signal_dict = np.load(signal_file)\n",
    "spike_signals = signal_dict['spike_signals']\n",
    "t_bins = signal_dict['t_bins']\n",
    "gids = signal_dict['gids']\n",
    "sigma = signal_dict['sigma']\n",
    "mean_centered = signal_dict['mean_centered']\n",
    "\n",
    "raw_spikes_file = os.path.join(working_dir, 'raw_spikes_exc_0.npy')\n",
    "raw_spikes = np.load(raw_spikes_file)\n",
    "\n",
    "assert t_bins[0] == time_windows[0] and t_bins[-1] == time_windows[-1], 'ERROR: Time axis mismatch!'\n",
    "assert np.min(np.diff(t_bins)) == 1.0, 'ERROR: Time resolution 1ms expected!' # [So that time onsets can directly be used for indexing!]\n",
    "T_trial = np.min(np.diff(time_windows))\n",
    "\n",
    "campaigns_path = os.path.join(working_dir, f'fake_campaigns_choose{num_blocks}_seed{meta_seed}')\n",
    "if not os.path.exists(campaigns_path):\n",
    "    os.makedirs(campaigns_path)\n",
    "\n",
    "time_windows_per_block = np.arange(len(stim_train_per_block) + 1) * T_trial\n",
    "np.save(os.path.join(campaigns_path, 'time_windows.npy'), time_windows_per_block)\n",
    "np.save(os.path.join(campaigns_path, 'stim_stream.npy'), stim_train_per_block)\n",
    "\n",
    "raw_spike_fn = '_'.join(os.path.split(raw_spikes_file)[-1].split('__')[0].split('_')[:-1])\n",
    "spike_fn = '_'.join(os.path.split(signal_file)[-1].split('__')[0].split('_')[:-1])\n",
    "print(f'Generating {num_fake_campaigns} fake campaigns:')\n",
    "for cpgn_idx, idx_per_blocks in enumerate(campaign_blocks):\n",
    "    print(cpgn_idx + 1, end='')\n",
    "    cpgn_path = os.path.join(campaigns_path, f'sim_campaign_{cpgn_idx}')\n",
    "    if os.path.exists(cpgn_path): # [SKIP EXISTING ONES]\n",
    "        continue\n",
    "    if not os.path.exists(cpgn_path):\n",
    "        os.makedirs(cpgn_path)\n",
    "        # Create symbolic link\n",
    "        for fn in ['neuron_info.pickle', 'connectivity.npz']:\n",
    "            os.symlink(os.path.join(working_dir, fn), os.path.join(cpgn_path, fn))\n",
    "        for fn in ['stim_stream.npy', 'time_windows.npy']:\n",
    "            os.symlink(os.path.join(campaigns_path, fn), os.path.join(cpgn_path, fn))\n",
    "\n",
    "    cpgn_spike_fns = []\n",
    "    for bl_idx, bl_sel in enumerate(idx_per_blocks):\n",
    "        print('.', end='')\n",
    "\n",
    "        # Cut spike signals\n",
    "        t_onsets = time_windows[bl_sel]\n",
    "        trial_indices = np.hstack([np.arange(t, t + T_trial) for t in t_onsets]).astype(int)\n",
    "        sp = spike_signals[:, trial_indices].copy() # Re-arranged spike signals [copy() ... IMPORTANT, otherwise saving with compression does not work for some reason!!]\n",
    "        t = np.arange(sp.shape[1] + 1).astype(float) # New time bins\n",
    "        np.savez_compressed(os.path.join(cpgn_path, f'{spike_fn}_{bl_idx}__tmp__.npz'), spike_signals=sp, t_bins=t, gids=gids, sigma=sigma, mean_centered=mean_centered)\n",
    "\n",
    "        # Cut raw spike trains\n",
    "        block_spikes = []\n",
    "        block_offset = 0\n",
    "        block_time_windows = [block_offset]\n",
    "        block_patt_seq = []\n",
    "        for stim_idx in bl_sel:\n",
    "            cut_start = time_windows[stim_idx]\n",
    "            cut_end = time_windows[stim_idx + 1]\n",
    "            spk = raw_spikes[np.logical_and(raw_spikes[:, 0] >= cut_start, raw_spikes[:, 0] < cut_end), :] # Cut spikes\n",
    "            spk[:, 0] = spk[:, 0] - cut_start + block_offset # Correct spike times\n",
    "            block_spikes.append(spk)\n",
    "            block_offset += cut_end - cut_start\n",
    "            block_time_windows.append(block_offset)\n",
    "            block_patt_seq.append(stim_train[stim_idx])\n",
    "        block_spikes = np.vstack(block_spikes)\n",
    "        block_time_windows = np.array(block_time_windows)\n",
    "        assert np.array_equal(time_windows_per_block, block_time_windows), 'ERROR: Block time windows mismatch!'\n",
    "        assert np.array_equal(stim_train_per_block, block_patt_seq), 'ERROR: Block pattern sequence mismatch!'\n",
    "\n",
    "        block_spike_fn = f'{raw_spike_fn}_{bl_idx}.npy'\n",
    "        np.save(os.path.join(cpgn_path, block_spike_fn), block_spikes)\n",
    "        cpgn_spike_fns.append(block_spike_fn)\n",
    "\n",
    "    # Extract firing rates from raw spike trains\n",
    "    run_rate_extraction(cpgn_path, cpgn_spike_fns, pool_size=len(cpgn_spike_fns))\n",
    "\n",
    "print(f'\\nINFO: Generated {cpgn_idx + 1} \"fake\" campaigns with {num_blocks} spike files each')"
   ]
  },
  {
   "cell_type": "code",
   "execution_count": null,
   "metadata": {},
   "outputs": [],
   "source": []
  }
 ],
 "metadata": {
  "kernelspec": {
   "display_name": "BbpWorkflowKernel",
   "language": "python",
   "name": "bbpworkflowkernel"
  },
  "language_info": {
   "codemirror_mode": {
    "name": "ipython",
    "version": 3
   },
   "file_extension": ".py",
   "mimetype": "text/x-python",
   "name": "python",
   "nbconvert_exporter": "python",
   "pygments_lexer": "ipython3",
   "version": "3.9.7"
  }
 },
 "nbformat": 4,
 "nbformat_minor": 4
}

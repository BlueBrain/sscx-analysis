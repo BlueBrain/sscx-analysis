{
 "cells": [
  {
   "cell_type": "markdown",
   "metadata": {},
   "source": [
    "# Structural comparison of original and rewired (simplified) SSCx connectomes\n",
    "This is a notebook for running structural comparison, which\n",
    " - extracts structural properties of original and rewired connectomes\n",
    " - analyzes, visualizes, and compares original with rewired connectomes\n",
    "\n",
    "<u>Requirements</u>: [connectome_manipulator](https://bbpgitlab.epfl.ch/conn/structural/connectome_manipulator) package\n",
    "\n",
    "ℹ️ Related ticket: [[ACCS-41](https://bbpteam.epfl.ch/project/issues/browse/ACCS-41)]\n",
    "\n",
    "WARNING: Running structural comparison on BB5 using <code>sbatch</code> not yest implemented!"
   ]
  },
  {
   "cell_type": "code",
   "execution_count": 1,
   "metadata": {},
   "outputs": [],
   "source": [
    "# Initialization\n",
    "\n",
    "\"\"\" Global imports \"\"\"\n",
    "import json\n",
    "import os\n",
    "\n",
    "\"\"\" Local imports \"\"\"\n",
    "from connectome_manipulator.connectome_manipulation import connectome_manipulation\n",
    "from connectome_manipulator.connectome_comparison import structural_comparator"
   ]
  },
  {
   "cell_type": "code",
   "execution_count": 2,
   "metadata": {},
   "outputs": [],
   "source": [
    "# Base circuit specifications\n",
    "circuit_path = '/gpfs/bbp.cscs.ch/project/proj83/home/pokorny/SimplifiedConnectomeModels/circuits/SSCx-Bio_M-20200805-HexO1'\n",
    "circuit_name = os.path.split(circuit_path)[-1]\n",
    "circuit_config = os.path.join(circuit_path, 'sonata', 'circuit_config.json') # SONATA config (.json)\n",
    "blue_config = os.path.join(circuit_path, 'CircuitConfig_TC') # BlueConfig (to run simulations with)\n",
    "models_path = os.path.join('/gpfs/bbp.cscs.ch/project/proj83/home/pokorny/SimplifiedConnectomeModels/model_building', circuit_name, 'model')\n"
   ]
  },
  {
   "cell_type": "code",
   "execution_count": 3,
   "metadata": {},
   "outputs": [],
   "source": [
    "# Structural comparator specifications\n",
    "structcomp_config = {}\n",
    "\n",
    "## General settings\n",
    "structcomp_config['working_dir'] = os.path.join('/gpfs/bbp.cscs.ch/project/proj83/home/pokorny/SimplifiedConnectomeModels/structural_comparator', circuit_name)\n",
    "structcomp_config['out_dir'] = os.path.join(structcomp_config['working_dir'], 'output')\n",
    "\n",
    "## Types of structural plots\n",
    "structcomp_config['plot_types'] = [# Adjacency matrix of Hex0\n",
    "#                                    {'name': 'AdjacencyHex0',\n",
    "#                                     'fct': {'source': 'adjacency',\n",
    "#                                             'kwargs': {'sel_src': {'node_set': 'hex0'},\n",
    "#                                                        'sel_dest': {'node_set': 'hex0'}}},\n",
    "#                                     'res_sel': ['adj', 'adj_cnt'],\n",
    "#                                     'range_prctile': 100,\n",
    "#                                     'fig_size': (11, 3),\n",
    "#                                     'fig_file': {'format': 'png', 'dpi': 600}},\n",
    "#                                    # Connectivity per layer (#syn/conn, conn. prob.) of Hex0EE\n",
    "#                                    {'name': 'ConnPerLayerHex0EE',\n",
    "#                                     'fct': {'source': 'connectivity',\n",
    "#                                             'kwargs': {'sel_src': {'node_set': 'hex0', 'synapse_class': 'EXC'},\n",
    "#                                                        'sel_dest': {'node_set': 'hex0', 'synapse_class': 'EXC'},\n",
    "#                                                        'group_by': 'layer'}},\n",
    "#                                     'res_sel': ['nsyn_conn', 'conn_prob'],\n",
    "#                                     'range_prctile': 100,\n",
    "#                                     'fig_size': (11, 3),\n",
    "#                                     'fig_file': {'format': 'png', 'dpi': 600}},\n",
    "#                                    # Connectivity per layer (#syn/conn, conn. prob.) of Hex0EI\n",
    "#                                    {'name': 'ConnPerLayerHex0EI',\n",
    "#                                     'fct': {'source': 'connectivity',\n",
    "#                                             'kwargs': {'sel_src': {'node_set': 'hex0', 'synapse_class': 'EXC'},\n",
    "#                                                        'sel_dest': {'node_set': 'hex0', 'synapse_class': 'INH'},\n",
    "#                                                        'group_by': 'layer'}},\n",
    "#                                     'res_sel': ['nsyn_conn', 'conn_prob'],\n",
    "#                                     'range_prctile': 100,\n",
    "#                                     'fig_size': (11, 3),\n",
    "#                                     'fig_file': {'format': 'png', 'dpi': 600}},\n",
    "#                                    # Connectivity per layer (#syn/conn, conn. prob.) of Hex0IE\n",
    "#                                    {'name': 'ConnPerLayerHex0IE',\n",
    "#                                     'fct': {'source': 'connectivity',\n",
    "#                                             'kwargs': {'sel_src': {'node_set': 'hex0', 'synapse_class': 'INH'},\n",
    "#                                                        'sel_dest': {'node_set': 'hex0', 'synapse_class': 'EXC'},\n",
    "#                                                        'group_by': 'layer'}},\n",
    "#                                     'res_sel': ['nsyn_conn', 'conn_prob'],\n",
    "#                                     'range_prctile': 100,\n",
    "#                                     'fig_size': (11, 3),\n",
    "#                                     'fig_file': {'format': 'png', 'dpi': 600}},\n",
    "#                                    # Connectivity per layer (#syn/conn, conn. prob.) of Hex0II\n",
    "#                                    {'name': 'ConnPerLayerHex0II',\n",
    "#                                     'fct': {'source': 'connectivity',\n",
    "#                                             'kwargs': {'sel_src': {'node_set': 'hex0', 'synapse_class': 'INH'},\n",
    "#                                                        'sel_dest': {'node_set': 'hex0', 'synapse_class': 'INH'},\n",
    "#                                                        'group_by': 'layer'}},\n",
    "#                                     'res_sel': ['nsyn_conn', 'conn_prob'],\n",
    "#                                     'range_prctile': 100,\n",
    "#                                     'fig_size': (11, 3),\n",
    "#                                     'fig_file': {'format': 'png', 'dpi': 600}},\n",
    "#                                    # Connectivity per m-type (#syn/conn, conn. prob.) of Hex0\n",
    "#                                    {'name': 'ConnPerMtypeHex0',\n",
    "#                                     'fct': {'source': 'connectivity',\n",
    "#                                             'kwargs': {'sel_src': {'node_set': 'hex0'},\n",
    "#                                                        'sel_dest': {'node_set': 'hex0'},\n",
    "#                                                        'group_by': 'mtype'}},\n",
    "#                                     'res_sel': ['nsyn_conn', 'conn_prob'],\n",
    "#                                     'range_prctile': 100,\n",
    "#                                     'fig_size': (11, 3),\n",
    "#                                     'fig_file': {'format': 'png', 'dpi': 600}},\n",
    "                                   # Synapse properties (mean/min/max) per m-type of Hex0\n",
    "                                   {'name': 'SynPropsMeanPerMtypeHex0', # SynPropsMean/Min/MaxPerMtypeHex0\n",
    "                                    'fct': {'source': 'properties',\n",
    "                                            'kwargs': {'sel_src': {'node_set': 'hex0'},\n",
    "                                                       'sel_dest': {'node_set': 'hex0'},\n",
    "                                                       'group_by': 'mtype',\n",
    "                                                       'fct': 'np.mean'}}, # np.mean/np.min/np.max\n",
    "                                    'res_sel': ['conductance_scale_factor',\n",
    "                                                'conductance',\n",
    "                                                'decay_time',\n",
    "                                                'delay',\n",
    "                                                'depression_time',\n",
    "                                                'facilitation_time',\n",
    "                                                'n_rrp_vesicles',\n",
    "                                                'syn_type_id',\n",
    "                                                'u_hill_coefficient',\n",
    "                                                'u_syn'],\n",
    "                                    'range_prctile': 100,\n",
    "                                    'fig_size': (11, 3),\n",
    "                                    'fig_file': {'format': 'png', 'dpi': 600}}]\n",
    "\n",
    "## Circuits to compare\n",
    "manip_config_name = 'manip_config__ConnRewireOrder1Hex0EE100pct'\n",
    "# manip_config_name = 'manip_config__ConnRewireOrder2Hex0EE100pct'\n",
    "# manip_config_name = 'manip_config__ConnRewireOrder3Hex0EE100pct'\n",
    "# manip_config_name = 'manip_config__ConnRewireOrder4Hex0EE100pct'\n",
    "# manip_config_name = 'manip_config__ConnRewireOrder5Hex0EE100pct'\n",
    "with open(os.path.join('..', 'configs', manip_config_name + '.json'), 'r') as f:\n",
    "    manip_config = json.load(f)\n",
    "\n",
    "structcomp_config['circuits'] = {'0': {'circuit_config': circuit_config,\n",
    "                                       'circuit_name': 'Base'},\n",
    "                                 '1': {'circuit_config': os.path.join(manip_config['output_path'], 'sonata', f'circuit_config_{manip_config[\"manip\"][\"name\"]}.json'),\n",
    "                                       'circuit_name': manip_config['manip']['name']}}"
   ]
  },
  {
   "cell_type": "code",
   "execution_count": null,
   "metadata": {},
   "outputs": [
    {
     "name": "stdout",
     "output_type": "stream",
     "text": [
      "INFO: 2 circuits loaded:\n",
      "  /gpfs/bbp.cscs.ch/project/proj83/home/pokorny/SimplifiedConnectomeModels/circuits/SSCx-Bio_M-20200805-HexO1/sonata/circuit_config.json\n",
      "  /gpfs/bbp.cscs.ch/project/proj83/home/pokorny/SimplifiedConnectomeModels/circuits/SSCx-Bio_M-20200805-HexO1__ConnRewireOrder1Hex0EE100pct/sonata/circuit_config_ConnRewireOrder1Hex0EE100pct.json\n",
      "INFO: Preparing \"SynPropsMeanPerMtypeHex0\" plot(s)...\n",
      "INFO: Extracting synapse properties (group_by=mtype, sel_src={'node_set': 'hex0'}, sel_dest={'node_set': 'hex0'}, N=60x60 groups, per_conn=False)\n",
      "INFO: Available synapse properties: \n",
      "['@source_node', '@target_node', 'afferent_center_x', 'afferent_center_y', 'afferent_center_z', 'afferent_section_id', 'afferent_section_pos', 'afferent_section_type', 'afferent_segment_id', 'afferent_segment_offset', 'afferent_surface_x', 'afferent_surface_y', 'afferent_surface_z', 'conductance', 'conductance_scale_factor', 'decay_time', 'delay', 'depression_time', 'efferent_center_x', 'efferent_center_y', 'efferent_center_z', 'efferent_section_id', 'efferent_section_pos', 'efferent_section_type', 'efferent_segment_id', 'efferent_segment_offset', 'efferent_surface_x', 'efferent_surface_y', 'efferent_surface_z', 'facilitation_time', 'n_rrp_vesicles', 'spine_length', 'syn_type_id', 'u_hill_coefficient', 'u_syn']\n"
     ]
    },
    {
     "name": "stderr",
     "output_type": "stream",
     "text": [
      " 85% |#############################################################           |\r"
     ]
    }
   ],
   "source": [
    "# Structural comparison of connectomes - Run comparison\n",
    "## Run from notebook\n",
    "structural_comparator.main(structcomp_config, True, force_recomp=[False, False])"
   ]
  },
  {
   "cell_type": "code",
   "execution_count": null,
   "metadata": {},
   "outputs": [],
   "source": []
  }
 ],
 "metadata": {
  "kernelspec": {
   "display_name": "ToposampleKernel",
   "language": "python",
   "name": "toposamplekernel"
  },
  "language_info": {
   "codemirror_mode": {
    "name": "ipython",
    "version": 3
   },
   "file_extension": ".py",
   "mimetype": "text/x-python",
   "name": "python",
   "nbconvert_exporter": "python",
   "pygments_lexer": "ipython3",
   "version": "3.7.4"
  }
 },
 "nbformat": 4,
 "nbformat_minor": 4
}

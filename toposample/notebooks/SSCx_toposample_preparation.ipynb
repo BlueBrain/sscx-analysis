{
 "cells": [
  {
   "cell_type": "markdown",
   "metadata": {},
   "source": [
    "# Preparation of SSCx analysis with topological sampling pipeline\n",
    "[https://github.com/BlueBrain/topological_sampling](https://github.com/BlueBrain/topological_sampling)"
   ]
  },
  {
   "cell_type": "code",
   "execution_count": 1,
   "metadata": {},
   "outputs": [
    {
     "ename": "ModuleNotFoundError",
     "evalue": "No module named 'bluepy'",
     "output_type": "error",
     "traceback": [
      "\u001b[0;31m---------------------------------------------------------------------------\u001b[0m",
      "\u001b[0;31mModuleNotFoundError\u001b[0m                       Traceback (most recent call last)",
      "\u001b[0;32m<ipython-input-1-f35732faf12b>\u001b[0m in \u001b[0;36m<module>\u001b[0;34m\u001b[0m\n\u001b[1;32m      5\u001b[0m \u001b[0;32mimport\u001b[0m \u001b[0mpandas\u001b[0m \u001b[0;32mas\u001b[0m \u001b[0mpd\u001b[0m\u001b[0;34m\u001b[0m\u001b[0;34m\u001b[0m\u001b[0m\n\u001b[1;32m      6\u001b[0m \u001b[0;32mimport\u001b[0m \u001b[0mscipy\u001b[0m\u001b[0;34m.\u001b[0m\u001b[0msparse\u001b[0m \u001b[0;32mas\u001b[0m \u001b[0msps\u001b[0m\u001b[0;34m\u001b[0m\u001b[0;34m\u001b[0m\u001b[0m\n\u001b[0;32m----> 7\u001b[0;31m \u001b[0;32mfrom\u001b[0m \u001b[0mbluepy\u001b[0m \u001b[0;32mimport\u001b[0m \u001b[0mSimulation\u001b[0m\u001b[0;34m,\u001b[0m \u001b[0mCell\u001b[0m\u001b[0;34m,\u001b[0m \u001b[0mSynapse\u001b[0m\u001b[0;34m\u001b[0m\u001b[0;34m\u001b[0m\u001b[0m\n\u001b[0m",
      "\u001b[0;31mModuleNotFoundError\u001b[0m: No module named 'bluepy'"
     ]
    }
   ],
   "source": [
    "import numpy as np\n",
    "import matplotlib.pyplot as plt\n",
    "import os\n",
    "import json\n",
    "import pandas as pd\n",
    "import scipy.sparse as sps\n",
    "from bluepy import Simulation, Cell, Synapse"
   ]
  },
  {
   "cell_type": "markdown",
   "metadata": {},
   "source": [
    "## Data preparation\n",
    "- Neuron info (hex0 target): __neuron_info.pickle__\n",
    "- Spikes (hex0 target; EXC only): __raw_spikes.npy__\n",
    "- Stimulus train: __stim_stream.npy__\n",
    "- Adjacency matrix (hex0 target; re-indexed): __connectivity.npz__"
   ]
  },
  {
   "cell_type": "code",
   "execution_count": 2,
   "metadata": {},
   "outputs": [],
   "source": [
    "sim_path = '/gpfs/bbp.cscs.ch/data/scratch/proj83/home/pokorny/SimplifiedConnectomeModels/bbp_workflow/43269208-a4e3-4b21-9d25-fa97c23399d9/0' # Simplified connectome models (5th order)\n",
    "# sim_path = '/gpfs/bbp.cscs.ch/data/scratch/proj83/home/pokorny/SimplifiedConnectomeModels/bbp_workflow/c5ec762f-4146-43ae-be66-873ab1434087/0' # Simplified connectome models (4th order)\n",
    "# sim_path = '/gpfs/bbp.cscs.ch/data/scratch/proj83/home/pokorny/SimplifiedConnectomeModels/bbp_workflow/2afaaa6c-8c86-4aea-82b7-d493930fa451/0' # Simplified connectome models (3rd order)\n",
    "# sim_path = '/gpfs/bbp.cscs.ch/data/scratch/proj83/home/pokorny/SimplifiedConnectomeModels/bbp_workflow/abc8c760-839b-40d2-aaf8-efd8e9b2639b/0' # Simplified connectome models (2nd order)\n",
    "# sim_path = '/gpfs/bbp.cscs.ch/data/scratch/proj83/home/pokorny/SimplifiedConnectomeModels/bbp_workflow/8165329d-f63c-4b50-adb7-f282f2b3f3b4/0' # Simplified connectome models (1st order)\n",
    "# sim_path = '/gpfs/bbp.cscs.ch/data/scratch/proj83/home/pokorny/SimplifiedConnectomeModels/bbp_workflow/2bc672d4-1f3a-413d-bcff-1a4f6ccd7516/0' # Simplified connectome models (base)\n",
    "\n",
    "# sim_path = '/gpfs/bbp.cscs.ch/data/scratch/proj83/bbp_workflow/b0a99807-f1c4-41e0-a261-5fb4e718412d/000'\n",
    "# sim_path = '/gpfs/bbp.cscs.ch/data/scratch/proj83/bbp_workflow/f553e919-2fac-460c-a58e-3facc388da90/000'\n",
    "save_path = os.path.join(sim_path, 'toposample_input')\n",
    "if not os.path.exists(save_path):\n",
    "    os.makedirs(save_path)\n",
    "\n",
    "blue_config = os.path.join(sim_path, 'BlueConfig')\n",
    "sim = Simulation(blue_config)\n",
    "c = sim.circuit\n",
    "hex0 = c.cells.ids('hex0')\n",
    "\n",
    "spike_file = os.path.abspath(os.path.join(sim_path, sim.config['Stimulus_spikeReplay']['SpikeFile']))\n",
    "spike_config_file = os.path.splitext(spike_file)[0] + '.json'\n",
    "assert os.path.exists(spike_config_file), 'ERROR: Spike config file not found!'\n",
    "with open(spike_config_file, 'r') as f:\n",
    "    spike_config = json.load(f)"
   ]
  },
  {
   "cell_type": "code",
   "execution_count": 3,
   "metadata": {},
   "outputs": [
    {
     "name": "stderr",
     "output_type": "stream",
     "text": [
      "/gpfs/bbp.cscs.ch/home/pokorny/BbpWorkflowKernel/lib/python3.9/site-packages/tables/file.py:411: UserWarning: a closed node found in the registry: ``/neuron_info/meta/values_block_3/meta/_i_table``\n",
      "  warnings.warn(\"a closed node found in the registry: \"\n"
     ]
    }
   ],
   "source": [
    "# Neuron info\n",
    "neuron_info = c.cells.get(hex0, properties=[Cell.X, Cell.Y, Cell.Z, Cell.LAYER, Cell.MTYPE, Cell.SYNAPSE_CLASS])\n",
    "neuron_info.to_pickle(os.path.join(save_path, 'neuron_info.pickle'))\n",
    "neuron_info.to_hdf(os.path.join(save_path, 'neuron_info.h5'), 'neuron_info', format='table')"
   ]
  },
  {
   "cell_type": "code",
   "execution_count": 4,
   "metadata": {},
   "outputs": [
    {
     "name": "stderr",
     "output_type": "stream",
     "text": [
      "/gpfs/bbp.cscs.ch/ssd/apps/bsd/2022-01-10/stage_applications/install_gcc-11.2.0-skylake/py-numpy-1.19.5-gjm7kk/lib/python3.9/site-packages/numpy/lib/arraysetops.py:580: FutureWarning: elementwise comparison failed; returning scalar instead, but in the future will perform elementwise comparison\n",
      "  mask |= (ar1 == a)\n"
     ]
    }
   ],
   "source": [
    "# Excitatory spikes\n",
    "hex0_exc = neuron_info[neuron_info['synapse_class'] == 'EXC'].index\n",
    "raw_spikes = sim.spikes.get(hex0_exc)\n",
    "raw_spikes = np.vstack((raw_spikes.index, raw_spikes.to_numpy())).T\n",
    "np.save(os.path.join(save_path, 'raw_spikes.npy'), raw_spikes)"
   ]
  },
  {
   "cell_type": "code",
   "execution_count": 5,
   "metadata": {},
   "outputs": [],
   "source": [
    "# Stim train\n",
    "stim_stream = np.array(spike_config['props']['stim_train'])\n",
    "np.save(os.path.join(save_path, 'stim_stream.npy'), stim_stream)"
   ]
  },
  {
   "cell_type": "code",
   "execution_count": 6,
   "metadata": {},
   "outputs": [],
   "source": [
    "# Adjacency matrix\n",
    "conns = np.array(list(c.connectome.iter_connections(pre=hex0, post=hex0)))\n",
    "reindex_table = sps.csr_matrix((np.arange(neuron_info.shape[0], dtype=int), (np.zeros(neuron_info.shape[0], dtype=int), neuron_info.index.to_numpy())))\n",
    "conns_reindex = np.array([reindex_table[0, conns[:, d]].toarray().flatten() for d in range(conns.shape[1])]).T\n",
    "\n",
    "adj_matrix = sps.csc_matrix((np.full(conns_reindex.shape[0], True), conns_reindex.T.tolist()))\n",
    "sps.save_npz(os.path.join(save_path, 'connectivity.npz'), adj_matrix)"
   ]
  },
  {
   "cell_type": "code",
   "execution_count": 7,
   "metadata": {},
   "outputs": [
    {
     "name": "stdout",
     "output_type": "stream",
     "text": [
      "INFO: Toposample input files written to \"/gpfs/bbp.cscs.ch/data/scratch/proj83/home/pokorny/SimplifiedConnectomeModels/bbp_workflow/43269208-a4e3-4b21-9d25-fa97c23399d9/0/toposample_input\": ['neuron_info.pickle', 'neuron_info.h5', 'connectivity.npz', 'stim_stream.npy', 'raw_spikes.npy']\n"
     ]
    }
   ],
   "source": [
    "print(f'INFO: Toposample input files written to \"{save_path}\": {os.listdir(save_path)}')"
   ]
  },
  {
   "cell_type": "code",
   "execution_count": null,
   "metadata": {},
   "outputs": [],
   "source": []
  },
  {
   "cell_type": "code",
   "execution_count": null,
   "metadata": {},
   "outputs": [],
   "source": []
  },
  {
   "cell_type": "code",
   "execution_count": 8,
   "metadata": {},
   "outputs": [
    {
     "ename": "AssertionError",
     "evalue": "*** STOP HERE ***",
     "output_type": "error",
     "traceback": [
      "\u001b[0;31m---------------------------------------------------------------------------\u001b[0m",
      "\u001b[0;31mAssertionError\u001b[0m                            Traceback (most recent call last)",
      "\u001b[0;32m/nvme/pokorny/755202/ipykernel_1916/1140743208.py\u001b[0m in \u001b[0;36m<module>\u001b[0;34m\u001b[0m\n\u001b[0;32m----> 1\u001b[0;31m \u001b[0;32massert\u001b[0m \u001b[0;32mFalse\u001b[0m\u001b[0;34m,\u001b[0m \u001b[0;34m'*** STOP HERE ***'\u001b[0m\u001b[0;34m\u001b[0m\u001b[0;34m\u001b[0m\u001b[0m\n\u001b[0m",
      "\u001b[0;31mAssertionError\u001b[0m: *** STOP HERE ***"
     ]
    }
   ],
   "source": [
    "assert False, '*** STOP HERE ***'"
   ]
  },
  {
   "cell_type": "markdown",
   "metadata": {},
   "source": [
    "## Re-convert dataframe from .h5 to .pickle\n",
    "- In case pickled dataframe has wrong protocol\n",
    "- Should be saved with same python/pandas version as used in toposample analysis (e.g., using same venv)\n",
    "- OPTIONAL: Coordinate system transformation"
   ]
  },
  {
   "cell_type": "code",
   "execution_count": 54,
   "metadata": {},
   "outputs": [
    {
     "data": {
      "image/png": "[encoded data removed]",
      "text/plain": [
       "<Figure size 432x288 with 2 Axes>"
      ]
     },
     "metadata": {
      "needs_background": "light"
     },
     "output_type": "display_data"
    },
    {
     "name": "stdout",
     "output_type": "stream",
     "text": [
      "File written to /gpfs/bbp.cscs.ch/data/scratch/proj83/home/pokorny/SimplifiedConnectomeModels/bbp_workflow/43269208-a4e3-4b21-9d25-fa97c23399d9/0/toposample_input/neuron_info.pickle!\n"
     ]
    }
   ],
   "source": [
    "import pandas as pd\n",
    "import os\n",
    "import matplotlib.pyplot as plt\n",
    "from connectome_manipulator.model_building import model_types\n",
    "\n",
    "save_path = '/gpfs/bbp.cscs.ch/data/scratch/proj83/home/pokorny/SimplifiedConnectomeModels/bbp_workflow/43269208-a4e3-4b21-9d25-fa97c23399d9/0/toposample_input' # Simplified connectome models (5th order)\n",
    "# save_path = '/gpfs/bbp.cscs.ch/data/scratch/proj83/home/pokorny/SimplifiedConnectomeModels/bbp_workflow/c5ec762f-4146-43ae-be66-873ab1434087/0/toposample_input' # Simplified connectome models (4th order)\n",
    "# save_path = '/gpfs/bbp.cscs.ch/data/scratch/proj83/home/pokorny/SimplifiedConnectomeModels/bbp_workflow/2afaaa6c-8c86-4aea-82b7-d493930fa451/0/toposample_input' # Simplified connectome models (3rd order)\n",
    "# save_path = '/gpfs/bbp.cscs.ch/data/scratch/proj83/home/pokorny/SimplifiedConnectomeModels/bbp_workflow/abc8c760-839b-40d2-aaf8-efd8e9b2639b/0/toposample_input' # Simplified connectome models (2nd order)\n",
    "# save_path = '/gpfs/bbp.cscs.ch/data/scratch/proj83/home/pokorny/SimplifiedConnectomeModels/bbp_workflow/8165329d-f63c-4b50-adb7-f282f2b3f3b4/0/toposample_input' # Simplified connectome models (1st order)\n",
    "# save_path = '/gpfs/bbp.cscs.ch/data/scratch/proj83/home/pokorny/SimplifiedConnectomeModels/bbp_workflow/2bc672d4-1f3a-413d-bcff-1a4f6ccd7516/0/toposample_input' # Simplified connectome models (base)\n",
    "\n",
    "# OPTIONAL: Coordinate system transformation based on position mapping model\n",
    "# pos_map_fn = None\n",
    "pos_map_fn = '/gpfs/bbp.cscs.ch/project/proj83/home/pokorny/SimplifiedConnectomeModels/model_building/SSCx-Bio_M-20200805-HexO1/model/SSFlatPosMappingHexO1.json'\n",
    "\n",
    "# camp_id = '4073e95f-abb1-4b86-8c38-13cf9f00ce0b'\n",
    "# save_path = f'/gpfs/bbp.cscs.ch/data/scratch/proj83/home/pokorny/analyses/proj96/{camp_id}/toposample_input_merged'\n",
    "# save_path = '/gpfs/bbp.cscs.ch/data/scratch/proj83/bbp_workflow/b0a99807-f1c4-41e0-a261-5fb4e718412d/000/toposample_input'\n",
    "h5_file = os.path.join(save_path, 'neuron_info.h5')\n",
    "pickle_file = os.path.splitext(h5_file)[0] + '.pickle'\n",
    "neuron_info = pd.read_hdf(h5_file)\n",
    "\n",
    "if pos_map_fn is not None:\n",
    "    pos_map = model_types.AbstractModel.model_from_file(pos_map_fn)\n",
    "    plt.figure()\n",
    "    plt.gcf().add_subplot(121, projection='3d')\n",
    "    plt.plot(neuron_info['x'], neuron_info['y'], neuron_info['z'], '.')\n",
    "    plt.gca().set_xlabel('x ($\\mu$m)')\n",
    "    plt.gca().set_ylabel('y ($\\mu$m)')\n",
    "    plt.gca().set_zlabel('z ($\\mu$m)')\n",
    "    plt.title('Original', fontweight='bold')\n",
    "    new_pos = pos_map.apply(gids=neuron_info.index.to_numpy() - 1) # IMPORTANT: Index shift from BluePy indexing (1-based) to SONATA indexing (0-based)\n",
    "    neuron_info = neuron_info.copy()\n",
    "    neuron_info[['x', 'y', 'z']] = new_pos\n",
    "    plt.gcf().add_subplot(122, projection='3d')\n",
    "    plt.plot(neuron_info['x'], neuron_info['y'], neuron_info['z'], '.')\n",
    "    plt.gca().set_xlabel('x ($\\mu$m)')\n",
    "    plt.gca().set_ylabel('y ($\\mu$m)')\n",
    "    plt.gca().set_zlabel('z ($\\mu$m)')\n",
    "    plt.title('Transformed', fontweight='bold')\n",
    "    plt.tight_layout()\n",
    "    plt.show()\n",
    "\n",
    "if os.path.exists(pickle_file):\n",
    "    os.rename(pickle_file, os.path.splitext(pickle_file)[0] + '_BAK_' + os.path.splitext(pickle_file)[1])\n",
    "neuron_info.to_pickle(pickle_file)\n",
    "print(f'File written to {pickle_file}!')"
   ]
  },
  {
   "cell_type": "code",
   "execution_count": null,
   "metadata": {},
   "outputs": [],
   "source": []
  },
  {
   "cell_type": "code",
   "execution_count": null,
   "metadata": {},
   "outputs": [],
   "source": []
  },
  {
   "cell_type": "code",
   "execution_count": null,
   "metadata": {},
   "outputs": [],
   "source": []
  },
  {
   "cell_type": "markdown",
   "metadata": {},
   "source": [
    "## Prepare working dir\n",
    "- Creates empty copy of working dir\n",
    "- Copies input files"
   ]
  },
  {
   "cell_type": "code",
   "execution_count": 12,
   "metadata": {},
   "outputs": [],
   "source": [
    "import os\n",
    "import shutil\n",
    "\n",
    "# save_path = '/gpfs/bbp.cscs.ch/data/scratch/proj83/home/pokorny/SimplifiedConnectomeModels/bbp_workflow/43269208-a4e3-4b21-9d25-fa97c23399d9/0/toposample_input' # Simplified connectome models (5th order)\n",
    "# save_path = '/gpfs/bbp.cscs.ch/data/scratch/proj83/home/pokorny/SimplifiedConnectomeModels/bbp_workflow/c5ec762f-4146-43ae-be66-873ab1434087/0/toposample_input' # Simplified connectome models (4th order)\n",
    "# save_path = '/gpfs/bbp.cscs.ch/data/scratch/proj83/home/pokorny/SimplifiedConnectomeModels/bbp_workflow/2afaaa6c-8c86-4aea-82b7-d493930fa451/0/toposample_input' # Simplified connectome models (3rd order)\n",
    "# save_path = '/gpfs/bbp.cscs.ch/data/scratch/proj83/home/pokorny/SimplifiedConnectomeModels/bbp_workflow/abc8c760-839b-40d2-aaf8-efd8e9b2639b/0/toposample_input' # Simplified connectome models (2nd order)\n",
    "# save_path = '/gpfs/bbp.cscs.ch/data/scratch/proj83/home/pokorny/SimplifiedConnectomeModels/bbp_workflow/8165329d-f63c-4b50-adb7-f282f2b3f3b4/0/toposample_input' # Simplified connectome models (1st order)\n",
    "save_path = '/gpfs/bbp.cscs.ch/data/scratch/proj83/home/pokorny/SimplifiedConnectomeModels/bbp_workflow/2bc672d4-1f3a-413d-bcff-1a4f6ccd7516/0/toposample_input' # Simplified connectome models (base)\n",
    "\n",
    "template_path = '/gpfs/bbp.cscs.ch/data/scratch/proj83/home/pokorny/SimplifiedConnectomeModels/toposample_working_dir_TEMPLATE_/'\n",
    "\n",
    "tgt_dir = os.path.join(save_path, 'working_dir')"
   ]
  },
  {
   "cell_type": "code",
   "execution_count": 13,
   "metadata": {},
   "outputs": [
    {
     "name": "stdout",
     "output_type": "stream",
     "text": [
      "/gpfs/bbp.cscs.ch/data/scratch/proj83/home/pokorny/SimplifiedConnectomeModels/bbp_workflow/2bc672d4-1f3a-413d-bcff-1a4f6ccd7516/0/toposample_input/working_dir\n",
      "/gpfs/bbp.cscs.ch/data/scratch/proj83/home/pokorny/SimplifiedConnectomeModels/bbp_workflow/2bc672d4-1f3a-413d-bcff-1a4f6ccd7516/0/toposample_input/working_dir/data/input_data/neuron_info.pickle\n",
      "/gpfs/bbp.cscs.ch/data/scratch/proj83/home/pokorny/SimplifiedConnectomeModels/bbp_workflow/2bc672d4-1f3a-413d-bcff-1a4f6ccd7516/0/toposample_input/working_dir/data/input_data/connectivity.npz\n",
      "/gpfs/bbp.cscs.ch/data/scratch/proj83/home/pokorny/SimplifiedConnectomeModels/bbp_workflow/2bc672d4-1f3a-413d-bcff-1a4f6ccd7516/0/toposample_input/working_dir/data/input_data/stim_stream.npy\n",
      "/gpfs/bbp.cscs.ch/data/scratch/proj83/home/pokorny/SimplifiedConnectomeModels/bbp_workflow/2bc672d4-1f3a-413d-bcff-1a4f6ccd7516/0/toposample_input/working_dir/data/input_data/raw_spikes.npy\n"
     ]
    }
   ],
   "source": [
    "print(shutil.copytree(template_path, tgt_dir))\n",
    "print(shutil.copy(os.path.join(save_path, 'neuron_info.pickle'), os.path.join(tgt_dir, 'data', 'input_data')))\n",
    "print(shutil.copy(os.path.join(save_path, 'connectivity.npz'), os.path.join(tgt_dir, 'data', 'input_data')))\n",
    "print(shutil.copy(os.path.join(save_path, 'stim_stream.npy'), os.path.join(tgt_dir, 'data', 'input_data')))\n",
    "print(shutil.copy(os.path.join(save_path, 'raw_spikes.npy'), os.path.join(tgt_dir, 'data', 'input_data')))"
   ]
  },
  {
   "cell_type": "code",
   "execution_count": null,
   "metadata": {},
   "outputs": [],
   "source": []
  },
  {
   "cell_type": "code",
   "execution_count": null,
   "metadata": {},
   "outputs": [],
   "source": []
  },
  {
   "cell_type": "code",
   "execution_count": null,
   "metadata": {},
   "outputs": [],
   "source": []
  },
  {
   "cell_type": "markdown",
   "metadata": {},
   "source": [
    "## Prepare m-type sections for random sampling"
   ]
  },
  {
   "cell_type": "code",
   "execution_count": 11,
   "metadata": {},
   "outputs": [],
   "source": [
    "import numpy as np\n",
    "mtypes = np.unique(neuron_info['mtype'])"
   ]
  },
  {
   "cell_type": "code",
   "execution_count": null,
   "metadata": {},
   "outputs": [],
   "source": [
    "import json\n",
    "nsamples = 25\n",
    "dict_list = []\n",
    "for mtype in mtypes:\n",
    "    mtype_dict = {'name': mtype, 'value': {'column': 'mtype', 'value': mtype}, 'number': nsamples}\n",
    "    dict_list.append(mtype_dict)\n",
    "cfg_str = json.dumps([[dict_list]], indent=2) # Use nested lists to set correct indent\n",
    "print(f'Config string for {len(mtypes)} m-types:')\n",
    "print(cfg_str)"
   ]
  },
  {
   "cell_type": "code",
   "execution_count": null,
   "metadata": {},
   "outputs": [],
   "source": []
  },
  {
   "cell_type": "code",
   "execution_count": null,
   "metadata": {},
   "outputs": [],
   "source": []
  },
  {
   "cell_type": "code",
   "execution_count": null,
   "metadata": {},
   "outputs": [],
   "source": []
  },
  {
   "cell_type": "markdown",
   "metadata": {},
   "source": [
    "### Run toposample pipeline (manifold analysis only, based on volumetric/random samples)\n",
    "- Use ToposampleKernel\n",
    "- Current directory <code>/gpfs/bbp.cscs.ch/home/pokorny/JupyterLab/git/topological_sampling<\\code>\n",
    "- Run on computation node (!)\n"
   ]
  },
  {
   "cell_type": "code",
   "execution_count": 19,
   "metadata": {},
   "outputs": [
    {
     "name": "stdout",
     "output_type": "stream",
     "text": [
      "#<GEN_TOPO_DB>\n",
      "python pipeline/gen_topo_db/gen_topo_db.py /gpfs/bbp.cscs.ch/data/scratch/proj83/home/pokorny/SimplifiedConnectomeModels/bbp_workflow/2bc672d4-1f3a-413d-bcff-1a4f6ccd7516/0/toposample_input/working_dir/config/common_config.json \"tribe\"\n",
      "\n",
      "python pipeline/gen_topo_db/gen_topo_db.py /gpfs/bbp.cscs.ch/data/scratch/proj83/home/pokorny/SimplifiedConnectomeModels/bbp_workflow/2bc672d4-1f3a-413d-bcff-1a4f6ccd7516/0/toposample_input/working_dir/config/common_config.json \"neuron_info\"\n",
      "\n",
      "python pipeline/gen_topo_db/merge_database.py /gpfs/bbp.cscs.ch/data/scratch/proj83/home/pokorny/SimplifiedConnectomeModels/bbp_workflow/2bc672d4-1f3a-413d-bcff-1a4f6ccd7516/0/toposample_input/working_dir/config/common_config.json\n",
      "\n",
      "#<SAMPLE_TRIBES>\n",
      "python pipeline/sample_tribes/sample-tribes-random.py /gpfs/bbp.cscs.ch/data/scratch/proj83/home/pokorny/SimplifiedConnectomeModels/bbp_workflow/2bc672d4-1f3a-413d-bcff-1a4f6ccd7516/0/toposample_input/working_dir/config/common_config.json\n",
      "\n",
      "python pipeline/sample_tribes/sample-tribes-volumetric.py /gpfs/bbp.cscs.ch/data/scratch/proj83/home/pokorny/SimplifiedConnectomeModels/bbp_workflow/2bc672d4-1f3a-413d-bcff-1a4f6ccd7516/0/toposample_input/working_dir/config/common_config.json\n",
      "\n",
      "#<MANIFOLD_ANALYSIS>\n",
      "python pipeline/manifold_analysis/manifold_analysis.py /gpfs/bbp.cscs.ch/data/scratch/proj83/home/pokorny/SimplifiedConnectomeModels/bbp_workflow/2bc672d4-1f3a-413d-bcff-1a4f6ccd7516/0/toposample_input/working_dir/config/common_config.json \"sampling=M-type\"\n",
      "\n",
      "python pipeline/manifold_analysis/manifold_analysis.py /gpfs/bbp.cscs.ch/data/scratch/proj83/home/pokorny/SimplifiedConnectomeModels/bbp_workflow/2bc672d4-1f3a-413d-bcff-1a4f6ccd7516/0/toposample_input/working_dir/config/common_config.json \"sampling=Radius\"\n",
      "\n",
      "#<CLASSIFIER>\n",
      "python pipeline/classifier/classifier.py /gpfs/bbp.cscs.ch/data/scratch/proj83/home/pokorny/SimplifiedConnectomeModels/bbp_workflow/2bc672d4-1f3a-413d-bcff-1a4f6ccd7516/0/toposample_input/working_dir/config/common_config.json components \"sampling=M-type\"\n",
      "\n",
      "python pipeline/classifier/classifier.py /gpfs/bbp.cscs.ch/data/scratch/proj83/home/pokorny/SimplifiedConnectomeModels/bbp_workflow/2bc672d4-1f3a-413d-bcff-1a4f6ccd7516/0/toposample_input/working_dir/config/common_config.json components \"sampling=Radius\"\n",
      "\n"
     ]
    }
   ],
   "source": [
    "# working_dir = '/gpfs/bbp.cscs.ch/data/scratch/proj83/home/pokorny/SimplifiedConnectomeModels/bbp_workflow/43269208-a4e3-4b21-9d25-fa97c23399d9/0/toposample_input/working_dir' # Simplified connectome models (5th order)\n",
    "# working_dir = '/gpfs/bbp.cscs.ch/data/scratch/proj83/home/pokorny/SimplifiedConnectomeModels/bbp_workflow/c5ec762f-4146-43ae-be66-873ab1434087/0/toposample_input/working_dir' # Simplified connectome models (4th order)\n",
    "# working_dir = '/gpfs/bbp.cscs.ch/data/scratch/proj83/home/pokorny/SimplifiedConnectomeModels/bbp_workflow/2afaaa6c-8c86-4aea-82b7-d493930fa451/0/toposample_input/working_dir' # Simplified connectome models (3rd order)\n",
    "# working_dir = '/gpfs/bbp.cscs.ch/data/scratch/proj83/home/pokorny/SimplifiedConnectomeModels/bbp_workflow/abc8c760-839b-40d2-aaf8-efd8e9b2639b/0/toposample_input/working_dir' # Simplified connectome models (2nd order)\n",
    "# working_dir = '/gpfs/bbp.cscs.ch/data/scratch/proj83/home/pokorny/SimplifiedConnectomeModels/bbp_workflow/8165329d-f63c-4b50-adb7-f282f2b3f3b4/0/toposample_input/working_dir' # Simplified connectome models (1st order)\n",
    "working_dir = '/gpfs/bbp.cscs.ch/data/scratch/proj83/home/pokorny/SimplifiedConnectomeModels/bbp_workflow/2bc672d4-1f3a-413d-bcff-1a4f6ccd7516/0/toposample_input/working_dir' # Simplified connectome models (Base)\n",
    "\n",
    "print('#<gen_topo_db>'.upper())\n",
    "print(f'python pipeline/gen_topo_db/gen_topo_db.py {working_dir}/config/common_config.json \"tribe\"\\n')\n",
    "print(f'python pipeline/gen_topo_db/gen_topo_db.py {working_dir}/config/common_config.json \"neuron_info\"\\n')\n",
    "print(f'python pipeline/gen_topo_db/merge_database.py {working_dir}/config/common_config.json\\n')\n",
    "\n",
    "print('#<sample_tribes>'.upper())\n",
    "print(f'python pipeline/sample_tribes/sample-tribes-random.py {working_dir}/config/common_config.json\\n')\n",
    "print(f'python pipeline/sample_tribes/sample-tribes-volumetric.py {working_dir}/config/common_config.json\\n')\n",
    "\n",
    "print('#<manifold_analysis>'.upper())\n",
    "print(f'python pipeline/manifold_analysis/manifold_analysis.py {working_dir}/config/common_config.json \"sampling=M-type\"\\n')\n",
    "print(f'python pipeline/manifold_analysis/manifold_analysis.py {working_dir}/config/common_config.json \"sampling=Radius\"\\n')\n",
    "\n",
    "print('#<classifier>'.upper())\n",
    "print(f'python pipeline/classifier/classifier.py {working_dir}/config/common_config.json components \"sampling=M-type\"\\n')\n",
    "print(f'python pipeline/classifier/classifier.py {working_dir}/config/common_config.json components \"sampling=Radius\"\\n')"
   ]
  },
  {
   "cell_type": "code",
   "execution_count": null,
   "metadata": {},
   "outputs": [],
   "source": []
  }
 ],
 "metadata": {
  "kernelspec": {
   "display_name": "ToposampleKernel",
   "language": "python",
   "name": "toposamplekernel"
  },
  "language_info": {
   "codemirror_mode": {
    "name": "ipython",
    "version": 3
   },
   "file_extension": ".py",
   "mimetype": "text/x-python",
   "name": "python",
   "nbconvert_exporter": "python",
   "pygments_lexer": "ipython3",
   "version": "3.7.4"
  }
 },
 "nbformat": 4,
 "nbformat_minor": 4
}
